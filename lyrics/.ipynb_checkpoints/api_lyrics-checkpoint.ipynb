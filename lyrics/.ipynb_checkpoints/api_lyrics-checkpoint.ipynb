{
 "cells": [
  {
   "cell_type": "code",
   "execution_count": 1,
   "id": "40fc2c05",
   "metadata": {},
   "outputs": [],
   "source": [
    "# https://towardsdatascience.com/song-lyrics-genius-api-dcc2819c29\n",
    "import lyricsgenius as lg"
   ]
  },
  {
   "cell_type": "code",
   "execution_count": null,
   "id": "b3b08a32",
   "metadata": {},
   "outputs": [],
   "source": [
    "token_lg='pIpeaOYN2rxFiMfnFQpkUGaKrkDhQ8GEsWg_mUuSWaqzohf10ugWBcI_5XktY7rS'"
   ]
  },
  {
   "cell_type": "code",
   "execution_count": null,
   "id": "baf7d050",
   "metadata": {},
   "outputs": [],
   "source": [
    "genius = lg.Genius(token_lg)"
   ]
  },
  {
   "cell_type": "code",
   "execution_count": null,
   "id": "4a5c1aa0",
   "metadata": {},
   "outputs": [],
   "source": [
    "artist = genius.search_artist(\"Maneskin\", max_songs=3, sort=\"title\")\n",
    "print(artist.songs)"
   ]
  },
  {
   "cell_type": "code",
   "execution_count": null,
   "id": "9e7be7d1",
   "metadata": {},
   "outputs": [],
   "source": [
    "song=artist.song('zitti e buoni')\n",
    "print(song.lyrics)"
   ]
  }
 ],
 "metadata": {
  "kernelspec": {
   "display_name": "Python 3 (ipykernel)",
   "language": "python",
   "name": "python3"
  },
  "language_info": {
   "codemirror_mode": {
    "name": "ipython",
    "version": 3
   },
   "file_extension": ".py",
   "mimetype": "text/x-python",
   "name": "python",
   "nbconvert_exporter": "python",
   "pygments_lexer": "ipython3",
   "version": "3.11.4"
  }
 },
 "nbformat": 4,
 "nbformat_minor": 5
}
